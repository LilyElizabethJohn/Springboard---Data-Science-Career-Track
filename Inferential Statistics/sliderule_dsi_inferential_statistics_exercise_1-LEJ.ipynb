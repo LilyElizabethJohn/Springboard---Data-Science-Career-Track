{
 "cells": [
  {
   "cell_type": "markdown",
   "metadata": {},
   "source": [
    "# What is the True Normal Human Body Temperature? \n",
    "\n",
    "#### Background\n",
    "\n",
    "The mean normal body temperature was held to be 37$^{\\circ}$C or 98.6$^{\\circ}$F for more than 120 years since it was first conceptualized and reported by Carl Wunderlich in a famous 1868 book. But, is this value statistically correct?"
   ]
  },
  {
   "cell_type": "markdown",
   "metadata": {},
   "source": [
    "<div class=\"span5 alert alert-info\">\n",
    "<h3>Exercises</h3>\n",
    "\n",
    "<p>In this exercise, you will analyze a dataset of human body temperatures and employ the concepts of hypothesis testing, confidence intervals, and statistical significance.</p>\n",
    "\n",
    "<p>Answer the following questions <b>in this notebook below and submit to your Github account</b>.</p> \n",
    "\n",
    "<ol>\n",
    "<li>  Is the distribution of body temperatures normal? \n",
    "    <ul>\n",
    "    <li> Although this is not a requirement for CLT to hold (read CLT carefully), it gives us some peace of mind that the population may also be normally distributed if we assume that this sample is representative of the population.\n",
    "    </ul>\n",
    "<li>  Is the sample size large? Are the observations independent?\n",
    "    <ul>\n",
    "    <li> Remember that this is a condition for the CLT, and hence the statistical tests we are using, to apply.\n",
    "    </ul>\n",
    "<li>  Is the true population mean really 98.6 degrees F?\n",
    "    <ul>\n",
    "    <li> Would you use a one-sample or two-sample test? Why?\n",
    "    <li> In this situation, is it appropriate to use the $t$ or $z$ statistic? \n",
    "    <li> Now try using the other test. How is the result be different? Why?\n",
    "    </ul>\n",
    "<li>  At what temperature should we consider someone's temperature to be \"abnormal\"?\n",
    "    <ul>\n",
    "    <li> Start by computing the margin of error and confidence interval.\n",
    "    </ul>\n",
    "<li>  Is there a significant difference between males and females in normal temperature?\n",
    "    <ul>\n",
    "    <li> What test did you use and why?\n",
    "    <li> Write a story with your conclusion in the context of the original problem.\n",
    "    </ul>\n",
    "</ol>\n",
    "\n",
    "You can include written notes in notebook cells using Markdown: \n",
    "   - In the control panel at the top, choose Cell > Cell Type > Markdown\n",
    "   - Markdown syntax: http://nestacms.com/docs/creating-content/markdown-cheat-sheet\n",
    "\n",
    "#### Resources\n",
    "\n",
    "+ Information and data sources: http://www.amstat.org/publications/jse/datasets/normtemp.txt, http://www.amstat.org/publications/jse/jse_data_archive.htm\n",
    "+ Markdown syntax: http://nestacms.com/docs/creating-content/markdown-cheat-sheet\n",
    "\n",
    "****\n",
    "</div>"
   ]
  },
  {
   "cell_type": "code",
   "execution_count": 91,
   "metadata": {
    "collapsed": true
   },
   "outputs": [],
   "source": [
    "#Import Libraries\n",
    "import pandas as pd\n",
    "import numpy as np\n",
    "import math\n",
    "import scipy.stats as spstats\n",
    "import matplotlib.pyplot as plt\n",
    "%matplotlib inline\n",
    "import seaborn as sns\n",
    "sns.set_style('whitegrid')\n",
    "#Read Dataset\n",
    "temp_df = pd.read_csv('data/human_body_temperature.csv')"
   ]
  },
  {
   "cell_type": "code",
   "execution_count": 92,
   "metadata": {},
   "outputs": [
    {
     "data": {
      "text/html": [
       "<div>\n",
       "<table border=\"1\" class=\"dataframe\">\n",
       "  <thead>\n",
       "    <tr style=\"text-align: right;\">\n",
       "      <th></th>\n",
       "      <th>temperature</th>\n",
       "      <th>gender</th>\n",
       "      <th>heart_rate</th>\n",
       "    </tr>\n",
       "  </thead>\n",
       "  <tbody>\n",
       "    <tr>\n",
       "      <th>0</th>\n",
       "      <td>99.3</td>\n",
       "      <td>F</td>\n",
       "      <td>68.0</td>\n",
       "    </tr>\n",
       "    <tr>\n",
       "      <th>1</th>\n",
       "      <td>98.4</td>\n",
       "      <td>F</td>\n",
       "      <td>81.0</td>\n",
       "    </tr>\n",
       "    <tr>\n",
       "      <th>2</th>\n",
       "      <td>97.8</td>\n",
       "      <td>M</td>\n",
       "      <td>73.0</td>\n",
       "    </tr>\n",
       "    <tr>\n",
       "      <th>3</th>\n",
       "      <td>99.2</td>\n",
       "      <td>F</td>\n",
       "      <td>66.0</td>\n",
       "    </tr>\n",
       "    <tr>\n",
       "      <th>4</th>\n",
       "      <td>98.0</td>\n",
       "      <td>F</td>\n",
       "      <td>73.0</td>\n",
       "    </tr>\n",
       "  </tbody>\n",
       "</table>\n",
       "</div>"
      ],
      "text/plain": [
       "   temperature gender  heart_rate\n",
       "0         99.3      F        68.0\n",
       "1         98.4      F        81.0\n",
       "2         97.8      M        73.0\n",
       "3         99.2      F        66.0\n",
       "4         98.0      F        73.0"
      ]
     },
     "execution_count": 92,
     "metadata": {},
     "output_type": "execute_result"
    }
   ],
   "source": [
    "#Review Data\n",
    "temp_df.head() "
   ]
  },
  {
   "cell_type": "markdown",
   "metadata": {},
   "source": [
    "### Q1. Is the distribution of body temperatures normal? "
   ]
  },
  {
   "cell_type": "markdown",
   "metadata": {},
   "source": [
    "<li> Although this is not a requirement for CLT to hold (read CLT carefully), it gives us some peace of mind that the population may also be normally distributed if we assume that this sample is representative of the population."
   ]
  },
  {
   "cell_type": "code",
   "execution_count": 93,
   "metadata": {},
   "outputs": [
    {
     "data": {
      "text/plain": [
       "<matplotlib.axes._subplots.AxesSubplot at 0x11db92b79b0>"
      ]
     },
     "execution_count": 93,
     "metadata": {},
     "output_type": "execute_result"
    },
    {
     "data": {
      "image/png": "[encoded data removed]",
      "text/plain": [
       "<matplotlib.figure.Figure at 0x11db92917b8>"
      ]
     },
     "metadata": {},
     "output_type": "display_data"
    }
   ],
   "source": [
    "#Plot distribution to see if sample data is normally distributed\n",
    "sns.distplot(temp_df.temperature)"
   ]
  },
  {
   "cell_type": "markdown",
   "metadata": {},
   "source": [
    "### The sample is normally distributed by visually assessing the histogram."
   ]
  },
  {
   "cell_type": "code",
   "execution_count": 94,
   "metadata": {},
   "outputs": [
    {
     "name": "stdout",
     "output_type": "stream",
     "text": [
      "P-Value =  0.258747986349\n"
     ]
    }
   ],
   "source": [
    "#Test for normality\n",
    "k2,pval=spstats.mstats.normaltest(temp_df.temperature)\n",
    "print(\"P-Value = \",pval)"
   ]
  },
  {
   "cell_type": "raw",
   "metadata": {},
   "source": [
    "Assuming level of significance of 0.05 : P-Value is greater and therefore we fail to Reject Ho that sample temperatures are normally ditributed."
   ]
  },
  {
   "cell_type": "markdown",
   "metadata": {},
   "source": [
    "### The sample is normally distributed as proved by the Chi Square Test for Normality."
   ]
  },
  {
   "cell_type": "markdown",
   "metadata": {},
   "source": [
    "---------------------------------------------------------------------------------------------------------------------------------------------------------------------------------------------------------"
   ]
  },
  {
   "cell_type": "markdown",
   "metadata": {},
   "source": [
    "### Q2. Is the sample size large? Are the observations independent?"
   ]
  },
  {
   "cell_type": "markdown",
   "metadata": {},
   "source": [
    "<li>Remember that this is a condition for the CLT, and hence the statistical tests we are using, to apply.    "
   ]
  },
  {
   "cell_type": "code",
   "execution_count": 95,
   "metadata": {},
   "outputs": [
    {
     "name": "stdout",
     "output_type": "stream",
     "text": [
      "Sample Size = 130\n",
      "Large Sample\n"
     ]
    }
   ],
   "source": [
    "#Get sample size\n",
    "sample_size=temp_df.shape[0]\n",
    "print(\"Sample Size =\",sample_size)\n",
    "if (sample_size>30):\n",
    "    print('Large Sample')\n",
    "else :\n",
    "    print ('Small Sample')"
   ]
  },
  {
   "cell_type": "markdown",
   "metadata": {},
   "source": [
    "### The sample size is large with 130 observations. "
   ]
  },
  {
   "cell_type": "markdown",
   "metadata": {},
   "source": [
    "### The observations are independent since data is collected from individuals."
   ]
  },
  {
   "cell_type": "markdown",
   "metadata": {},
   "source": [
    "-----------------------------------------------------------------------------------------------------------------------------------"
   ]
  },
  {
   "cell_type": "markdown",
   "metadata": {},
   "source": [
    "### Q3. Is the true population mean really 98.6 degrees F?"
   ]
  },
  {
   "cell_type": "markdown",
   "metadata": {},
   "source": [
    "<li>Would you use a one-sample or two-sample test? Why?"
   ]
  },
  {
   "cell_type": "raw",
   "metadata": {},
   "source": [
    "To run the hypothesis test : Is True Population mean really 98.6 degrees F, we would use a one sample test as we are estimating true population mean from a single sample."
   ]
  },
  {
   "cell_type": "markdown",
   "metadata": {},
   "source": [
    "<li>In this situation, is it appropriate to use the $t$ or $z$ statistic? "
   ]
  },
  {
   "cell_type": "raw",
   "metadata": {},
   "source": [
    "Assumptions for one sample z-test include:\n",
    "1) a random sample from a normal population with known variance or\n",
    "2) a relatively large random sample (if variance is unknown, it can be approximated by sample variance). \n",
    "\n",
    "Since, the sample is large, we use the z-test to estimate True Population Mean.\n",
    "Variance is unknown, however we have determined with Chi-Square Test of Normality that the sample follows a normal distribution and therefore by CLT, we can approximate population variance from sample variance.\n",
    "\n",
    "Conclusion : Use z-test"
   ]
  },
  {
   "cell_type": "markdown",
   "metadata": {},
   "source": [
    "#### Hypothesis - One Sample Test for Means - Large Sample - z-test"
   ]
  },
  {
   "cell_type": "raw",
   "metadata": {},
   "source": [
    "Hypothesis : Is the true population mean really 98.6 degrees F?\n",
    "    Ho : Mu=98.6\n",
    "    Ha : Mu!=98.6\n",
    "\n",
    "This is a 2 sided test. We reject Ho if P-Value is less than level of significance of 0.05."
   ]
  },
  {
   "cell_type": "code",
   "execution_count": 96,
   "metadata": {},
   "outputs": [
    {
     "name": "stdout",
     "output_type": "stream",
     "text": [
      "Z Statistic = -5.454823292364079\n"
     ]
    }
   ],
   "source": [
    "#Calculate z-statistic\n",
    "xbar,stddev=temp_df.temperature.mean(),temp_df.temperature.std()\n",
    "mu=98.6\n",
    "\n",
    "zstatistic=(xbar-mu)/(stddev/math.sqrt(sample_size))\n",
    "print(\"Z Statistic =\",zstatistic)"
   ]
  },
  {
   "cell_type": "code",
   "execution_count": 97,
   "metadata": {},
   "outputs": [
    {
     "name": "stdout",
     "output_type": "stream",
     "text": [
      "P Value =  4.90215701411e-08\n"
     ]
    }
   ],
   "source": [
    "#Calculate pvalue from Z Statistic = Use *2 since it is a 2 tailed test\n",
    "p_value=spstats.norm.sf(abs(zstatistic))*2\n",
    "print(\"P Value = \",p_value)"
   ]
  },
  {
   "cell_type": "raw",
   "metadata": {},
   "source": [
    "Since, P Value is less than level of significance of 0.05, \n",
    "We reject the null hypothesis that True Population Mean is really 98.6 degress F."
   ]
  },
  {
   "cell_type": "code",
   "execution_count": 98,
   "metadata": {},
   "outputs": [
    {
     "name": "stdout",
     "output_type": "stream",
     "text": [
      "Confidence Interval of 2 tailed z test at 95% confidence - ( 98.12 F, 98.38 F )\n"
     ]
    }
   ],
   "source": [
    "#Calculate 2-tailed Confidence Interval - CI at 95% Confidence \n",
    "zalphaby2=spstats.norm.ppf(0.975)\n",
    "MarginOfError=zalphaby2*(stddev/math.sqrt(sample_size))\n",
    "zCIUpperLimit=xbar+(zalphaby2*(stddev/math.sqrt(sample_size)))\n",
    "zCILowerLimit=xbar-(zalphaby2*(stddev/math.sqrt(sample_size)))\n",
    "print(\"Confidence Interval of 2 tailed z test at 95% confidence - (\",round(zCILowerLimit,2),\"F,\",round(zCIUpperLimit,2),\"F )\")"
   ]
  },
  {
   "cell_type": "markdown",
   "metadata": {},
   "source": [
    "### Reject Null Hypothesis : True Population Mean is not 98.6 degrees F."
   ]
  },
  {
   "cell_type": "markdown",
   "metadata": {},
   "source": [
    "<li>Now try using the other test. How is the result be different? Why?"
   ]
  },
  {
   "cell_type": "code",
   "execution_count": 99,
   "metadata": {},
   "outputs": [
    {
     "name": "stdout",
     "output_type": "stream",
     "text": [
      "t Statistic = -5.454823292364079\n"
     ]
    }
   ],
   "source": [
    "#Calculate t-statistic - z-test for means and t-test for means have same test statistic\n",
    "tstatistic=(xbar-mu)/(stddev/math.sqrt(sample_size))\n",
    "print(\"t Statistic =\",tstatistic)"
   ]
  },
  {
   "cell_type": "code",
   "execution_count": 100,
   "metadata": {},
   "outputs": [
    {
     "name": "stdout",
     "output_type": "stream",
     "text": [
      "T at Level of Significance 0.05 =  1.97852449146\n"
     ]
    }
   ],
   "source": [
    "#At level of significance=0.05, with dof=129, calculate talpha for 2 sided test.\n",
    "talphaby2=spstats.t.ppf(1-0.025, 129)\n",
    "print(\"T at Level of Significance 0.05 = \",talphaby2)"
   ]
  },
  {
   "cell_type": "code",
   "execution_count": 101,
   "metadata": {},
   "outputs": [
    {
     "name": "stdout",
     "output_type": "stream",
     "text": [
      "Confidence Interval of 2 tailed z test at 95% confidence - ( 98.12 F, 98.38 F )\n"
     ]
    }
   ],
   "source": [
    "#Calculate 2-tailed Confidence Interval - CI at 95% Confidence \n",
    "talphaby2=spstats.t.ppf(1-0.025, sample_size-1)\n",
    "tCIUpperLimit=xbar+(zalphaby2*(stddev/math.sqrt(sample_size)))\n",
    "tCILowerLimit=xbar-(zalphaby2*(stddev/math.sqrt(sample_size)))\n",
    "print(\"Confidence Interval of 2 tailed z test at 95% confidence - (\",round(tCILowerLimit,2),\"F,\",round(tCIUpperLimit,2),\"F )\")"
   ]
  },
  {
   "cell_type": "markdown",
   "metadata": {},
   "source": [
    "### We get the same CI for t and z at 95% confidence since at sample size greater than 30 t distribution becomes normal."
   ]
  },
  {
   "cell_type": "markdown",
   "metadata": {},
   "source": [
    "--------------------------------------------------------------------------------------------------------------------------------"
   ]
  },
  {
   "cell_type": "markdown",
   "metadata": {},
   "source": [
    "### Q4. At what temperature should we consider someone's temperature to be \"abnormal\"?"
   ]
  },
  {
   "cell_type": "markdown",
   "metadata": {},
   "source": [
    "<li>Start by computing the margin of error and confidence interval."
   ]
  },
  {
   "cell_type": "code",
   "execution_count": 102,
   "metadata": {},
   "outputs": [
    {
     "name": "stdout",
     "output_type": "stream",
     "text": [
      "Margin Of Error = 0.126034341049\n",
      "Confidence Interval of 2 tailed z test at 95% confidence - ( 98.12 F, 98.38 F )\n"
     ]
    }
   ],
   "source": [
    "print(\"Margin Of Error =\",MarginOfError)\n",
    "print(\"Confidence Interval of 2 tailed z test at 95% confidence - (\",round(zCILowerLimit,2),\"F,\",round(zCIUpperLimit,2),\"F )\")"
   ]
  },
  {
   "cell_type": "markdown",
   "metadata": {},
   "source": [
    "### Temperature is considered abnormal outside the range (98.12 F, 98.38 F)"
   ]
  },
  {
   "cell_type": "markdown",
   "metadata": {},
   "source": [
    "---------------------------------------------------------------------------------------------------------------------------------"
   ]
  },
  {
   "cell_type": "markdown",
   "metadata": {},
   "source": [
    "### Q5. Is there a significant difference between males and females in normal temperature?"
   ]
  },
  {
   "cell_type": "markdown",
   "metadata": {},
   "source": [
    "<li>What test did you use and why?"
   ]
  },
  {
   "cell_type": "code",
   "execution_count": 103,
   "metadata": {},
   "outputs": [
    {
     "data": {
      "text/plain": [
       "F    65\n",
       "M    65\n",
       "Name: gender, dtype: int64"
      ]
     },
     "execution_count": 103,
     "metadata": {},
     "output_type": "execute_result"
    }
   ],
   "source": [
    "#Check sample size for males and females\n",
    "temp_df.gender.value_counts()"
   ]
  },
  {
   "cell_type": "raw",
   "metadata": {},
   "source": [
    "There are more than 30 observations in each group and therefore we use the 2 tailed independent z test for 2 means to test for significant difference."
   ]
  },
  {
   "cell_type": "code",
   "execution_count": 104,
   "metadata": {},
   "outputs": [],
   "source": [
    "#Split dataset into male and female groups\n",
    "males=temp_df[temp_df.gender=='M']\n",
    "females=temp_df[temp_df.gender=='F']"
   ]
  },
  {
   "cell_type": "markdown",
   "metadata": {},
   "source": [
    "#### Hypothesis - Two Sample Test for Means - Large Sample - Indepedent - z-test"
   ]
  },
  {
   "cell_type": "raw",
   "metadata": {},
   "source": [
    "Hypothesis : Is there a significant difference between males and females in normal temperature?\n",
    "    Ho : Mu1-Mu2=0\n",
    "    Ha : Mu1-Mu2!=0\n",
    "\n",
    "This is a 2 sided test. We reject Ho if P-Value is less than level of significance of 0.05."
   ]
  },
  {
   "cell_type": "code",
   "execution_count": 105,
   "metadata": {},
   "outputs": [
    {
     "name": "stdout",
     "output_type": "stream",
     "text": [
      "Z Statistic = -3.9584887374749673\n"
     ]
    }
   ],
   "source": [
    "#Calculate z-statistic\n",
    "mxbar,mstddev=males.temperature.mean(),males.temperature.std()\n",
    "fxbar,fstddev=females.temperature.mean(),females.temperature.std()\n",
    "zstatistic=(mxbar-fxbar)/(math.sqrt(((mstddev**2)/males.size)+((fstddev**2)/females.size)))\n",
    "print(\"Z Statistic =\",zstatistic)"
   ]
  },
  {
   "cell_type": "code",
   "execution_count": 106,
   "metadata": {},
   "outputs": [
    {
     "name": "stdout",
     "output_type": "stream",
     "text": [
      "P Value =  7.5425496979e-05\n"
     ]
    }
   ],
   "source": [
    "#Calculate pvalue from Z Statistic = Use *2 since it is a 2 tailed test\n",
    "p_value=spstats.norm.sf(abs(zstatistic))*2\n",
    "print(\"P Value = \",p_value)"
   ]
  },
  {
   "cell_type": "raw",
   "metadata": {},
   "source": [
    "Since, P Value is less than level of significance of 0.05, \n",
    "We reject the null hypothesis that there is no significant difference between males and females."
   ]
  },
  {
   "cell_type": "markdown",
   "metadata": {},
   "source": [
    "<li>Write a story with your conclusion in the context of the original problem."
   ]
  },
  {
   "cell_type": "code",
   "execution_count": null,
   "metadata": {
    "collapsed": true
   },
   "outputs": [],
   "source": []
  }
 ],
 "metadata": {
  "kernelspec": {
   "display_name": "Python 3",
   "language": "python",
   "name": "python3"
  },
  "language_info": {
   "codemirror_mode": {
    "name": "ipython",
    "version": 3
   },
   "file_extension": ".py",
   "mimetype": "text/x-python",
   "name": "python",
   "nbconvert_exporter": "python",
   "pygments_lexer": "ipython3",
   "version": "3.5.2"
  }
 },
 "nbformat": 4,
 "nbformat_minor": 1
}
